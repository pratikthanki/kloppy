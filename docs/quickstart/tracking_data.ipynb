{
 "cells": [
  {
   "cell_type": "markdown",
   "metadata": {},
   "source": [
    "# Tracking data\n",
    "\n",
    "Metadata is available on tracking data. TRACAB and Metrica does not include any extra metadata besides team and jersey number. [EPTS](https://football-technology.fifa.com/en/media-tiles/research-development-epts-standard-data-format/) is the only format right now that contains additional information that will be loaded as metadata\n",
    "\n",
    "\n",
    "## Loading Metrica data\n"
   ]
  },
  {
   "cell_type": "code",
   "execution_count": 1,
   "metadata": {
    "scrolled": true
   },
   "outputs": [],
   "source": [
    "from kloppy import datasets\n",
    "\n",
    "dataset = datasets.load(\"metrica_tracking\", options={\"limit\": 10})\n"
   ]
  },
  {
   "cell_type": "markdown",
   "metadata": {},
   "source": [
    "## Exploring the data\n",
    "\n",
    "When you want to show the name of a player you are advised to use `str(player)`. This will call the magic `__str__` method that handles fallbacks for missing data. By default it will return `full_name`, and fallback to 1) `first_name last_name` 2) `player_id`."
   ]
  },
  {
   "cell_type": "code",
   "execution_count": 13,
   "metadata": {},
   "outputs": [
    {
     "data": {
      "text/plain": [
       "['home_11 (11)',\n",
       " 'home_1 (1)',\n",
       " 'home_2 (2)',\n",
       " 'home_3 (3)',\n",
       " 'home_4 (4)',\n",
       " 'home_5 (5)',\n",
       " 'home_6 (6)',\n",
       " 'home_7 (7)',\n",
       " 'home_8 (8)',\n",
       " 'home_9 (9)',\n",
       " 'home_10 (10)',\n",
       " 'home_12 (12)',\n",
       " 'home_13 (13)',\n",
       " 'home_14 (14)']"
      ]
     },
     "execution_count": 13,
     "metadata": {},
     "output_type": "execute_result"
    }
   ],
   "source": [
    "metadata = dataset.metadata\n",
    "home_team, away_team = metadata.teams\n",
    "\n",
    "[f\"{player} ({player.jersey_no})\" for player in home_team.players]\n"
   ]
  },
  {
   "cell_type": "code",
   "execution_count": 14,
   "metadata": {},
   "outputs": [
    {
     "name": "stdout",
     "output_type": "stream",
     "text": [
      "home - Home\n",
      "away - Away\n"
     ]
    }
   ],
   "source": [
    "print(f\"{home_team.ground} - {home_team}\")\n",
    "print(f\"{away_team.ground} - {away_team}\")"
   ]
  },
  {
   "cell_type": "markdown",
   "metadata": {
    "collapsed": true
   },
   "source": [
    "## Working with tracking data\n",
    "\n",
    "The actual tracking data is available at `dataset.frames`. This list holds all frames. Each frame has a `players_coordinates` dictionary that is indexed by `Player` entities and has values of the `Point` type.\n",
    "\n"
   ]
  },
  {
   "cell_type": "code",
   "execution_count": 16,
   "metadata": {},
   "outputs": [
    {
     "name": "stdout",
     "output_type": "stream",
     "text": [
      "Number of players in the frame: 22\n",
      "List home team players coordinates\n",
      "[Point(x=0.00082, y=0.51762),\n",
      " Point(x=0.32648, y=0.34678),\n",
      " Point(x=0.33701, y=0.51137),\n",
      " Point(x=0.30927, y=0.64471),\n",
      " Point(x=0.32137, y=0.78738),\n",
      " Point(x=0.41094, y=0.27410999999999996),\n",
      " Point(x=0.41698, y=0.52157),\n",
      " Point(x=0.39125, y=0.6745),\n",
      " Point(x=0.45388, y=0.78826),\n",
      " Point(x=0.52697, y=0.6202),\n",
      " Point(x=0.55243, y=0.56731)]\n"
     ]
    }
   ],
   "source": [
    "first_frame = dataset.frames[0]\n",
    "print(f\"Number of players in the frame: {len(first_frame.players_coordinates)}\")\n",
    "\n",
    "from pprint import pprint\n",
    "print(\"List home team players coordinates\")\n",
    "pprint([\n",
    "    player_coordinates \n",
    "    for player, player_coordinates\n",
    "    in first_frame.players_coordinates.items()\n",
    "    if player.team == home_team\n",
    "])"
   ]
  }
 ],
 "metadata": {
  "kernelspec": {
   "display_name": "Python 3",
   "language": "python",
   "name": "python3"
  },
  "language_info": {
   "codemirror_mode": {
    "name": "ipython",
    "version": 3
   },
   "file_extension": ".py",
   "mimetype": "text/x-python",
   "name": "python",
   "nbconvert_exporter": "python",
   "pygments_lexer": "ipython3",
   "version": "3.7.6"
  }
 },
 "nbformat": 4,
 "nbformat_minor": 4
}
