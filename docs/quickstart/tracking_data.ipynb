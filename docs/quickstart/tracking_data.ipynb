{
 "cells": [
  {
   "cell_type": "markdown",
   "metadata": {},
   "source": [
    "# Metadata\n",
    "\n",
    "More info about metadata"
   ]
  },
  {
   "cell_type": "markdown",
   "metadata": {},
   "source": [
    "## Event data\n"
   ]
  },
  {
   "cell_type": "code",
   "execution_count": 1,
   "metadata": {
    "scrolled": true
   },
   "outputs": [
    {
     "name": "stderr",
     "output_type": "stream",
     "text": [
      "/Users/koen/PycharmProjects/kloppy/.venv/lib/python3.7/site-packages/kloppy-1.0.0-py3.7.egg/kloppy/infra/datasets/event/statsbomb.py:12: UserWarning: \n",
      "\n",
      "You are about to use StatsBomb public data.\n",
      "By using this data, you are agreeing to the user agreement. \n",
      "The user agreement can be found here: https://github.com/statsbomb/open-data/blob/master/LICENSE.pdf\n",
      "\n",
      "  \"\\n\\nYou are about to use StatsBomb public data.\"\n"
     ]
    }
   ],
   "source": [
    "from kloppy import datasets\n",
    "\n",
    "dataset = datasets.load(\"statsbomb\", options={\"event_types\": [\"pass\", \"shot\"]})\n",
    "metadata = dataset.metadata"
   ]
  },
  {
   "cell_type": "code",
   "execution_count": 2,
   "metadata": {},
   "outputs": [
    {
     "data": {
      "text/plain": [
       "['Malcom Filipe Silva de Oliveira (14)',\n",
       " 'Philippe Coutinho Correia (7)',\n",
       " 'Sergio Busquets i Burgos (5)',\n",
       " 'Jordi Alba Ramos (18)',\n",
       " 'Gerard Piqué Bernabéu (3)',\n",
       " 'Luis Alberto Suárez Díaz (9)',\n",
       " 'Ivan Rakitić (4)',\n",
       " 'Ousmane Dembélé (11)',\n",
       " 'Samuel Yves Umtiti (23)',\n",
       " 'Lionel Andrés Messi Cuccittini (10)',\n",
       " 'Nélson Cabral Semedo (2)',\n",
       " 'Sergi Roberto Carnicer (20)',\n",
       " 'Clément Lenglet (15)',\n",
       " 'Rafael Alcântara do Nascimento (12)',\n",
       " 'Arturo Erasmo Vidal Pardo (22)',\n",
       " 'Jasper Cillessen (13)',\n",
       " 'Arthur Henrique Ramos de Oliveira Melo (8)',\n",
       " 'Marc-André ter Stegen (1)']"
      ]
     },
     "execution_count": 2,
     "metadata": {},
     "output_type": "execute_result"
    }
   ],
   "source": [
    "[f\"{player} ({player.jersey_no})\" for player in metadata.teams[0].players]\n"
   ]
  },
  {
   "cell_type": "code",
   "execution_count": 4,
   "metadata": {},
   "outputs": [
    {
     "name": "stdout",
     "output_type": "stream",
     "text": [
      "home - Barcelona\n",
      "away - Deportivo Alavés\n"
     ]
    }
   ],
   "source": [
    "print(f\"{metadata.teams[0].ground} - {metadata.teams[0]}\")\n",
    "print(f\"{metadata.teams[1].ground} - {metadata.teams[1]}\")"
   ]
  },
  {
   "cell_type": "code",
   "execution_count": 5,
   "metadata": {},
   "outputs": [
    {
     "data": {
      "text/plain": [
       "'statsbomb team id: 217'"
      ]
     },
     "execution_count": 5,
     "metadata": {},
     "output_type": "execute_result"
    }
   ],
   "source": [
    "# get provider id for team\n",
    "f\"statsbomb team id: {metadata.teams[0].team_id}\""
   ]
  },
  {
   "cell_type": "code",
   "execution_count": 5,
   "metadata": {},
   "outputs": [
    {
     "data": {
      "text/plain": [
       "['Malcom Filipe Silva de Oliveira id=3109',\n",
       " 'Philippe Coutinho Correia id=3501',\n",
       " 'Sergio Busquets i Burgos id=5203',\n",
       " 'Jordi Alba Ramos id=5211',\n",
       " 'Gerard Piqué Bernabéu id=5213',\n",
       " 'Luis Alberto Suárez Díaz id=5246',\n",
       " 'Ivan Rakitić id=5470',\n",
       " 'Ousmane Dembélé id=5477',\n",
       " 'Samuel Yves Umtiti id=5492',\n",
       " 'Lionel Andrés Messi Cuccittini id=5503',\n",
       " 'Nélson Cabral Semedo id=6374',\n",
       " 'Sergi Roberto Carnicer id=6379',\n",
       " 'Clément Lenglet id=6826',\n",
       " 'Rafael Alcântara do Nascimento id=6998',\n",
       " 'Arturo Erasmo Vidal Pardo id=8206',\n",
       " 'Jasper Cillessen id=8652',\n",
       " 'Arthur Henrique Ramos de Oliveira Melo id=11392',\n",
       " 'Marc-André ter Stegen id=20055']"
      ]
     },
     "execution_count": 5,
     "metadata": {},
     "output_type": "execute_result"
    }
   ],
   "source": [
    "# same for the players\n",
    "[f\"{player} id={player.player_id}\" for player in metadata.teams[0].players]\n"
   ]
  },
  {
   "cell_type": "code",
   "execution_count": 7,
   "metadata": {},
   "outputs": [
    {
     "name": "stdout",
     "output_type": "stream",
     "text": [
      "Jonathan Rodríguez Menéndez\n",
      "Deportivo Alavés\n",
      "Teams are comparable? True\n"
     ]
    }
   ],
   "source": [
    "# get player from first event\n",
    "player = dataset.events[0].player\n",
    "print(player)\n",
    "print(player.team)\n",
    "print(f\"Teams are comparable? {player.team == metadata.teams[1]}\")"
   ]
  },
  {
   "cell_type": "markdown",
   "metadata": {
    "collapsed": true
   },
   "source": [
    "## Tracking data"
   ]
  }
 ],
 "metadata": {
  "kernelspec": {
   "display_name": "Python 3",
   "language": "python",
   "name": "python3"
  },
  "language_info": {
   "codemirror_mode": {
    "name": "ipython",
    "version": 3
   },
   "file_extension": ".py",
   "mimetype": "text/x-python",
   "name": "python",
   "nbconvert_exporter": "python",
   "pygments_lexer": "ipython3",
   "version": "3.7.6"
  }
 },
 "nbformat": 4,
 "nbformat_minor": 4
}
