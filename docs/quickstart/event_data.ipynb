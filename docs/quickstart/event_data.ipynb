{
 "cells": [
  {
   "cell_type": "markdown",
   "metadata": {},
   "source": [
    "# Event data\n",
    "\n",
    "One of the main benefits of working with kloppy is that it loads metadata with the event data. This metadata includes teams (name, ground and provider id) and players (name, jersey number, optional position and provider id). Using this metadata, it becomes very easy to create an analysis that is usable by humans, because it includes names instead of only numbers.\n",
    "\n",
    "This section shows how metadata is organized and some use-cases."
   ]
  },
  {
   "cell_type": "markdown",
   "metadata": {},
   "source": [
    "## Loading statsbomb data\n",
    "\n",
    "The datasets module of kloppy makes it trivial to load statsbomb data. Keep in mind that by using the data you accept the license of the open-data project.\n"
   ]
  },
  {
   "cell_type": "code",
   "execution_count": 2,
   "metadata": {
    "scrolled": true
   },
   "outputs": [
    {
     "name": "stderr",
     "output_type": "stream",
     "text": [
      "/Users/koen/PycharmProjects/kloppy/.venv/lib/python3.7/site-packages/kloppy-1.0.0-py3.7.egg/kloppy/infra/datasets/event/statsbomb.py:12: UserWarning: \n",
      "\n",
      "You are about to use StatsBomb public data.\n",
      "By using this data, you are agreeing to the user agreement. \n",
      "The user agreement can be found here: https://github.com/statsbomb/open-data/blob/master/LICENSE.pdf\n",
      "\n",
      "  \"\\n\\nYou are about to use StatsBomb public data.\"\n"
     ]
    }
   ],
   "source": [
    "from kloppy import datasets\n",
    "\n",
    "dataset = datasets.load(\"statsbomb\", options={\"event_types\": [\"pass\", \"shot\"]})"
   ]
  },
  {
   "cell_type": "markdown",
   "metadata": {},
   "source": [
    "## Exploring metadata\n",
    "\n",
    "kloppy always loads the metadata for you and makes it available at the `metadata` property. "
   ]
  },
  {
   "cell_type": "code",
   "execution_count": 3,
   "metadata": {},
   "outputs": [],
   "source": [
    "metadata = dataset.metadata\n",
    "home_team, away_team = metadata.teams"
   ]
  },
  {
   "cell_type": "markdown",
   "metadata": {},
   "source": [
    "After loading the data, the metadata can be used to iterate over teams and players. By default `metadata.teams` contain `[HomeTeam, AwayTeam]`. `Team` and `Player` entities have the `__str__` magic method implemented to help you cast it to a string. When you want to "
   ]
  },
  {
   "cell_type": "code",
   "execution_count": 6,
   "metadata": {},
   "outputs": [
    {
     "name": "stdout",
     "output_type": "stream",
     "text": [
      "home - Barcelona\n",
      "away - Deportivo Alavés\n"
     ]
    }
   ],
   "source": [
    "print(f\"{home_team.ground} - {home_team}\")\n",
    "print(f\"{away_team.ground} - {away_team}\")"
   ]
  },
  {
   "cell_type": "code",
   "execution_count": 4,
   "metadata": {},
   "outputs": [
    {
     "data": {
      "text/plain": [
       "['Malcom Filipe Silva de Oliveira (14)',\n",
       " 'Philippe Coutinho Correia (7)',\n",
       " 'Sergio Busquets i Burgos (5)',\n",
       " 'Jordi Alba Ramos (18)',\n",
       " 'Gerard Piqué Bernabéu (3)',\n",
       " 'Luis Alberto Suárez Díaz (9)',\n",
       " 'Ivan Rakitić (4)',\n",
       " 'Ousmane Dembélé (11)',\n",
       " 'Samuel Yves Umtiti (23)',\n",
       " 'Lionel Andrés Messi Cuccittini (10)',\n",
       " 'Nélson Cabral Semedo (2)',\n",
       " 'Sergi Roberto Carnicer (20)',\n",
       " 'Clément Lenglet (15)',\n",
       " 'Rafael Alcântara do Nascimento (12)',\n",
       " 'Arturo Erasmo Vidal Pardo (22)',\n",
       " 'Jasper Cillessen (13)',\n",
       " 'Arthur Henrique Ramos de Oliveira Melo (8)',\n",
       " 'Marc-André ter Stegen (1)']"
      ]
     },
     "execution_count": 4,
     "metadata": {},
     "output_type": "execute_result"
    }
   ],
   "source": [
    "[f\"{player} ({player.jersey_no})\" for player in home_team.players]\n"
   ]
  },
  {
   "cell_type": "code",
   "execution_count": 5,
   "metadata": {},
   "outputs": [
    {
     "data": {
      "text/plain": [
       "'statsbomb team id: 217 - 206'"
      ]
     },
     "execution_count": 5,
     "metadata": {},
     "output_type": "execute_result"
    }
   ],
   "source": [
    "# get provider id for team\n",
    "f\"statsbomb team id: {home_team.team_id} - {away_team.team_id}\""
   ]
  },
  {
   "cell_type": "code",
   "execution_count": 5,
   "metadata": {},
   "outputs": [
    {
     "data": {
      "text/plain": [
       "['Malcom Filipe Silva de Oliveira id=3109',\n",
       " 'Philippe Coutinho Correia id=3501',\n",
       " 'Sergio Busquets i Burgos id=5203',\n",
       " 'Jordi Alba Ramos id=5211',\n",
       " 'Gerard Piqué Bernabéu id=5213',\n",
       " 'Luis Alberto Suárez Díaz id=5246',\n",
       " 'Ivan Rakitić id=5470',\n",
       " 'Ousmane Dembélé id=5477',\n",
       " 'Samuel Yves Umtiti id=5492',\n",
       " 'Lionel Andrés Messi Cuccittini id=5503',\n",
       " 'Nélson Cabral Semedo id=6374',\n",
       " 'Sergi Roberto Carnicer id=6379',\n",
       " 'Clément Lenglet id=6826',\n",
       " 'Rafael Alcântara do Nascimento id=6998',\n",
       " 'Arturo Erasmo Vidal Pardo id=8206',\n",
       " 'Jasper Cillessen id=8652',\n",
       " 'Arthur Henrique Ramos de Oliveira Melo id=11392',\n",
       " 'Marc-André ter Stegen id=20055']"
      ]
     },
     "execution_count": 5,
     "metadata": {},
     "output_type": "execute_result"
    }
   ],
   "source": [
    "# same for the players\n",
    "[f\"{player} id={player.player_id}\" for player in metadata.teams[0].players]\n"
   ]
  },
  {
   "cell_type": "code",
   "execution_count": 9,
   "metadata": {},
   "outputs": [
    {
     "name": "stdout",
     "output_type": "stream",
     "text": [
      "Jonathan Rodríguez Menéndez\n",
      "Deportivo Alavés\n",
      "Teams are comparable? True\n"
     ]
    }
   ],
   "source": [
    "# get player from first event\n",
    "player = dataset.events[0].player\n",
    "print(player)\n",
    "print(player.team)\n",
    "print(f\"Teams are comparable? {player.team == away_team}\")"
   ]
  },
  {
   "cell_type": "markdown",
   "metadata": {},
   "source": [
    "The `Team` and `Player` entities also contain the magic methods to use those keys in dictionaries or use them in sets. This makes it easy to do some calculations, and show the results without mapping the player_id to a name."
   ]
  },
  {
   "cell_type": "code",
   "execution_count": 7,
   "metadata": {},
   "outputs": [
    {
     "name": "stdout",
     "output_type": "stream",
     "text": [
      "Jonathan Rodríguez Menéndez has 14 passes\n",
      "Guillermo Alfonso Maripán Loaysa has 18 passes\n",
      "Sergio Busquets i Burgos has 79 passes\n",
      "Ivan Rakitić has 138 passes\n",
      "Ousmane Dembélé has 65 passes\n",
      "Jordi Alba Ramos has 121 passes\n",
      "Víctor Laguardia Cisneros has 11 passes\n",
      "Marc-André ter Stegen has 23 passes\n",
      "Gerard Piqué Bernabéu has 79 passes\n",
      "Nélson Cabral Semedo has 31 passes\n",
      "Sergi Roberto Carnicer has 85 passes\n",
      "Samuel Yves Umtiti has 63 passes\n",
      "Lionel Andrés Messi Cuccittini has 92 passes\n",
      "Rubén Duarte Sánchez has 25 passes\n",
      "Ibai Gómez Pérez has 35 passes\n",
      "Mubarak Wakaso has 23 passes\n",
      "Manuel Alejandro García Sánchez has 23 passes\n",
      "Rubén Sobrino Pozuelo has 17 passes\n",
      "Luis Alberto Suárez Díaz has 38 passes\n",
      "Fernando Pacheco Flores has 16 passes\n",
      "Martín Aguirregabiria Padilla has 20 passes\n",
      "Daniel Alejandro Torres Rojas has 16 passes\n",
      "Philippe Coutinho Correia has 51 passes\n",
      "Jorge Franco Alviz has 11 passes\n",
      "Adrián Marín Gómez has 6 passes\n",
      "Arthur Henrique Ramos de Oliveira Melo has 18 passes\n",
      "Borja González Tomás has 7 passes\n",
      "Arturo Erasmo Vidal Pardo has 7 passes\n"
     ]
    }
   ],
   "source": [
    "from collections import defaultdict\n",
    "\n",
    "passes_per_player = defaultdict(list)\n",
    "for event in dataset.events:\n",
    "    if event.event_name == \"pass\":\n",
    "        passes_per_player[event.player].append(event)\n",
    "        \n",
    "for player, passes in passes_per_player.items():\n",
    "    print(f\"{player} has {len(passes)} passes\")"
   ]
  },
  {
   "cell_type": "markdown",
   "metadata": {},
   "source": [
    "Now let's filter on home_team."
   ]
  },
  {
   "cell_type": "code",
   "execution_count": 8,
   "metadata": {},
   "outputs": [
    {
     "name": "stdout",
     "output_type": "stream",
     "text": [
      "Sergio Busquets i Burgos has 79 passes\n",
      "Ivan Rakitić has 138 passes\n",
      "Ousmane Dembélé has 65 passes\n",
      "Jordi Alba Ramos has 121 passes\n",
      "Marc-André ter Stegen has 23 passes\n",
      "Gerard Piqué Bernabéu has 79 passes\n",
      "Nélson Cabral Semedo has 31 passes\n",
      "Sergi Roberto Carnicer has 85 passes\n",
      "Samuel Yves Umtiti has 63 passes\n",
      "Lionel Andrés Messi Cuccittini has 92 passes\n",
      "Luis Alberto Suárez Díaz has 38 passes\n",
      "Philippe Coutinho Correia has 51 passes\n",
      "Arthur Henrique Ramos de Oliveira Melo has 18 passes\n",
      "Arturo Erasmo Vidal Pardo has 7 passes\n"
     ]
    }
   ],
   "source": [
    "for player, passes in passes_per_player.items():\n",
    "    if player.team == home_team:\n",
    "        print(f\"{player} has {len(passes)} passes\")"
   ]
  },
  {
   "cell_type": "markdown",
   "metadata": {},
   "source": [
    "## Use metadata when transforming to pandas dataframe\n",
    "\n",
    "The metadata can also be used when transforming a dataset to a pandas dataframe. The `additional_columns` argument should be passed to `to_pandas`. "
   ]
  },
  {
   "cell_type": "code",
   "execution_count": 13,
   "metadata": {},
   "outputs": [
    {
     "data": {
      "text/html": [
       "<div>\n",
       "<style scoped>\n",
       "    .dataframe tbody tr th:only-of-type {\n",
       "        vertical-align: middle;\n",
       "    }\n",
       "\n",
       "    .dataframe tbody tr th {\n",
       "        vertical-align: top;\n",
       "    }\n",
       "\n",
       "    .dataframe thead th {\n",
       "        text-align: right;\n",
       "    }\n",
       "</style>\n",
       "<table border=\"1\" class=\"dataframe\">\n",
       "  <thead>\n",
       "    <tr style=\"text-align: right;\">\n",
       "      <th></th>\n",
       "      <th>event_id</th>\n",
       "      <th>event_type</th>\n",
       "      <th>result</th>\n",
       "      <th>timestamp</th>\n",
       "      <th>player_id</th>\n",
       "      <th>player_name</th>\n",
       "      <th>team_name</th>\n",
       "    </tr>\n",
       "  </thead>\n",
       "  <tbody>\n",
       "    <tr>\n",
       "      <th>0</th>\n",
       "      <td>34208ade-2af4-45c3-970e-655937cad938</td>\n",
       "      <td>PASS</td>\n",
       "      <td>COMPLETE</td>\n",
       "      <td>0.098</td>\n",
       "      <td>6581</td>\n",
       "      <td>Jonathan Rodríguez Menéndez</td>\n",
       "      <td>Deportivo Alavés</td>\n",
       "    </tr>\n",
       "    <tr>\n",
       "      <th>1</th>\n",
       "      <td>d1cccb73-c7ef-4b02-8267-ebd7f149904b</td>\n",
       "      <td>PASS</td>\n",
       "      <td>INCOMPLETE</td>\n",
       "      <td>3.497</td>\n",
       "      <td>6855</td>\n",
       "      <td>Guillermo Alfonso Maripán Loaysa</td>\n",
       "      <td>Deportivo Alavés</td>\n",
       "    </tr>\n",
       "    <tr>\n",
       "      <th>2</th>\n",
       "      <td>f1cc47d6-4b19-45a6-beb9-33d67fc83f4b</td>\n",
       "      <td>PASS</td>\n",
       "      <td>COMPLETE</td>\n",
       "      <td>6.785</td>\n",
       "      <td>5203</td>\n",
       "      <td>Sergio Busquets i Burgos</td>\n",
       "      <td>Barcelona</td>\n",
       "    </tr>\n",
       "    <tr>\n",
       "      <th>3</th>\n",
       "      <td>f774571f-4b65-43a0-9bfc-6384948d1b82</td>\n",
       "      <td>PASS</td>\n",
       "      <td>COMPLETE</td>\n",
       "      <td>8.431</td>\n",
       "      <td>5470</td>\n",
       "      <td>Ivan Rakitić</td>\n",
       "      <td>Barcelona</td>\n",
       "    </tr>\n",
       "    <tr>\n",
       "      <th>4</th>\n",
       "      <td>46f0e871-3e72-4817-9a53-af27583ba6c1</td>\n",
       "      <td>PASS</td>\n",
       "      <td>COMPLETE</td>\n",
       "      <td>10.433</td>\n",
       "      <td>5477</td>\n",
       "      <td>Ousmane Dembélé</td>\n",
       "      <td>Barcelona</td>\n",
       "    </tr>\n",
       "  </tbody>\n",
       "</table>\n",
       "</div>"
      ],
      "text/plain": [
       "                               event_id event_type      result  timestamp  \\\n",
       "0  34208ade-2af4-45c3-970e-655937cad938       PASS    COMPLETE      0.098   \n",
       "1  d1cccb73-c7ef-4b02-8267-ebd7f149904b       PASS  INCOMPLETE      3.497   \n",
       "2  f1cc47d6-4b19-45a6-beb9-33d67fc83f4b       PASS    COMPLETE      6.785   \n",
       "3  f774571f-4b65-43a0-9bfc-6384948d1b82       PASS    COMPLETE      8.431   \n",
       "4  46f0e871-3e72-4817-9a53-af27583ba6c1       PASS    COMPLETE     10.433   \n",
       "\n",
       "  player_id                       player_name         team_name  \n",
       "0      6581       Jonathan Rodríguez Menéndez  Deportivo Alavés  \n",
       "1      6855  Guillermo Alfonso Maripán Loaysa  Deportivo Alavés  \n",
       "2      5203          Sergio Busquets i Burgos         Barcelona  \n",
       "3      5470                      Ivan Rakitić         Barcelona  \n",
       "4      5477                   Ousmane Dembélé         Barcelona  "
      ]
     },
     "execution_count": 13,
     "metadata": {},
     "output_type": "execute_result"
    }
   ],
   "source": [
    "from kloppy import to_pandas\n",
    "\n",
    "dataframe = to_pandas(dataset, additional_columns={\n",
    "    'player_name': lambda event: str(event.player),\n",
    "    'team_name': lambda event: str(event.player.team)\n",
    "})\n",
    "dataframe[[\n",
    "    'event_id', 'event_type', 'result', 'timestamp', 'player_id', \n",
    "    'player_name', 'team_name'\n",
    "]].head()"
   ]
  }
 ],
 "metadata": {
  "kernelspec": {
   "display_name": "Python 3",
   "language": "python",
   "name": "python3"
  },
  "language_info": {
   "codemirror_mode": {
    "name": "ipython",
    "version": 3
   },
   "file_extension": ".py",
   "mimetype": "text/x-python",
   "name": "python",
   "nbconvert_exporter": "python",
   "pygments_lexer": "ipython3",
   "version": "3.7.6"
  }
 },
 "nbformat": 4,
 "nbformat_minor": 4
}
